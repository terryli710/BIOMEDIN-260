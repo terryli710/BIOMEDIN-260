{
 "cells": [
  {
   "cell_type": "markdown",
   "metadata": {},
   "source": [
    "# BIOMEDIN 260/RAD260: Problem Set 3 - Mammogram Project\n",
    "\n",
    "## Spring 2020"
   ]
  },
  {
   "cell_type": "markdown",
   "metadata": {},
   "source": [
    "## Name: Yiheng Li"
   ]
  },
  {
   "cell_type": "markdown",
   "metadata": {},
   "source": [
    "**Deadline = May 29 11:00 PM**"
   ]
  },
  {
   "cell_type": "markdown",
   "metadata": {},
   "source": [
    "## Introduction\n",
    "\n",
    "Breast cancer has the highest incidence and second highest mortality rate for women in the US.\n",
    "\n",
    "Your task is to utilize machine learning to study mammograms in any way you want (e.g. classification, segmentation) as long as you justify why it is useful to do whatever it is you want to do. Turning in a deep dream assignment using mammograms might be amusing, for example, but not so useful to patients. That being said, choose something that interests you. As the adage goes, \"do what you love, and you’ll never have to work another day in your life, at least in BMI 260.\"\n",
    "\n",
    "Treat this as a mini-project. We highly encourage working with 1 other person, possibly someone in your main project team. \n",
    "\n",
    "In addition to the mammograms themselves, the dataset includes \"ground-truth\" segmentations and `mass_case_description_train_set.csv`, which contains metadata information about mass shapes, mass margins, assessment numbers, pathology diagnoses, and subtlety in the data. Take some time to research what all of these different fields mean and how you might utilize them in your work. You dont need to use all of what is provided to you.\n",
    "\n",
    "Some ideas:\n",
    "\n",
    "1. Use the ROI’s or segmentations to extract features, and then train a classifier based on those features using the algorithms presented to you in the machine learning lectures (doesn't need to use deep learning).\n",
    "\n",
    "2. Use convolutional neural networks. Feel free to use any of the code we went over in class or use your own (custom code, sklearn, keras, Tensorflow etc.). If you dont want to place helper functions and classes into this notebook, place them in a `.py` file in the same folder called `helperfunctions.py` and import them into this notebook.\n",
    "\n",
    "## Data\n",
    "\n",
    "The data is here:\n",
    "\n",
    "https://wiki.cancerimagingarchive.net/display/Public/CBIS-DDSM\n",
    "\n",
    "## Grading and Submission\n",
    "\n",
    "This assignment has 3 components: code, figures (outputs/analyses of your code), and a write-up detailing your mini-project. You will be graded on these categories.\n",
    "\n",
    "If you're OK with Python or R, please place all three parts into this notebook/.Rmd file that we have provided where indicated. We have written template sections for you to follow for simplicity/completeness. When you're done, save as a `.pdf` (please knit to `.pdf` if you are using `.Rmd`, or knit to `.html` and use a browser's \"Print\" function to convert to `.pdf`).\n",
    "\n",
    "If you don't like Python OR R, we will allow you to use a different language, but please turn your assignment in with: 1) a folder with all your code, 2) a folder with all your figures, and 3) a `.tex`/`.doc`/`.pdf` file with a write-up."
   ]
  },
  {
   "cell_type": "code",
   "execution_count": 1,
   "metadata": {},
   "outputs": [
    {
     "name": "stderr",
     "output_type": "stream",
     "text": [
      "Using TensorFlow backend.\n"
     ]
    }
   ],
   "source": [
    "# Loading packages\n",
    "from tqdm import tqdm\n",
    "from keras_tqdm import TQDMCallback\n",
    "import h5py\n",
    "import os\n",
    "import matplotlib.pyplot as plt\n",
    "from matplotlib.image import imsave\n",
    "import pandas as pd\n",
    "import numpy as np\n",
    "from sklearn.preprocessing import MinMaxScaler\n",
    "from sklearn.metrics import confusion_matrix, accuracy_score, roc_auc_score\n",
    "from tensorflow.keras.models import load_model\n",
    "from skimage.transform import resize\n",
    "from sklearn.calibration import calibration_curve"
   ]
  },
  {
   "cell_type": "markdown",
   "metadata": {},
   "source": [
    "## Mammogram Classification and Uncertainty Analysis to Optimize Reveiw Workflow"
   ]
  },
  {
   "cell_type": "code",
   "execution_count": 2,
   "metadata": {},
   "outputs": [],
   "source": [
    "# Util functions\n",
    "def getImageList(rel_path, verbose=False):\n",
    "    \"\"\"\n",
    "    Input relative path, get all the images from 'rel_path\\\\patient ID\\\\image names'\n",
    "    input: relative path\n",
    "    output: df(patient number, image file name list, image file dir list)\n",
    "    \"\"\"\n",
    "    patient_num_list = []\n",
    "    img_name_list = []\n",
    "    img_path_list = []\n",
    "    # Get all the image paths and names\n",
    "    cur_path = os.path.abspath('')\n",
    "    data_path = os.path.join(cur_path, rel_path)\n",
    "    p_folder_list = os.listdir(data_path)\n",
    "    for p_folder in p_folder_list:\n",
    "        img_dir = os.path.join(data_path, p_folder)\n",
    "        img_list = os.listdir(img_dir)\n",
    "        for img_name in img_list:\n",
    "            img_path = os.path.join(img_dir, img_name)\n",
    "            patient_num_list += [p_folder]\n",
    "            img_name_list += [img_name]\n",
    "            img_path_list += [img_path]\n",
    "    assert len(patient_num_list) == len(img_path_list), 'Lengths differ.'\n",
    "    df = pd.DataFrame(list(zip(patient_num_list, img_name_list, img_path_list)),\n",
    "                columns = ['patient number', 'img name', 'img path'])\n",
    "    return df\n",
    "\n",
    "def loadOneImage(img_path):\n",
    "    hf = h5py.File(img_path, 'r')\n",
    "    img = hf['data'][()]\n",
    "    return img\n",
    "\n",
    "# intergrated function to load images and do \n",
    "# preprocessing to the images loaded\n",
    "def loadImages(img_path_list, size = None):\n",
    "    assert len(img_path_list)>0, 'No files to load'\n",
    "    # image example\n",
    "    example = loadOneImage(img_path_list[0])\n",
    "    img_shape = list(example.shape)\n",
    "    if size is not None: \n",
    "        ar_shape = tuple([len(img_path_list)]+list(size)+[3])\n",
    "        imgs = np.zeros(ar_shape)\n",
    "        for i in tqdm(range(len(img_path_list))):\n",
    "            imgs[i] = makeRgb(resize(image = loadOneImage(img_path_list[i])[:,:,0], output_shape = size))\n",
    "    else: \n",
    "        ar_shape = tuple([len(img_path_list)] + img_shape[0:2]+[3])\n",
    "        imgs = np.zeros(ar_shape)\n",
    "        for i in tqdm(range(len(img_path_list))):\n",
    "            imgs[i] = makeRgb(loadOneImage(img_path_list[i])[:,:,0])\n",
    "    return imgs\n",
    "\n",
    "# Preprocess Image\n",
    "# Scale to 0 - 255\n",
    "def imgScale(img):\n",
    "    img -= np.min(img)\n",
    "    img *= 255/np.max(img)\n",
    "    return img.astype('int')\n",
    "\n",
    "# \"Make\" RGB\n",
    "def makeRgb(img):\n",
    "    \"\"\" input: 2D img; output: img w/ 3 channels identical \"\"\"\n",
    "    new_img = np.repeat(np.expand_dims(img, axis=-1), repeats=3, axis=-1)\n",
    "    return new_img\n",
    "\n",
    "def plotReliability(probs, y_test, n_bins = 10):\n",
    "    # reliability diagram\n",
    "    fop, mpv = calibration_curve(y_test, probs, n_bins=n_bins)\n",
    "    # plot perfectly calibrated\n",
    "    plt.plot([0, 1], [0, 1], linestyle='--')\n",
    "    # plot model reliability\n",
    "    plt.plot(mpv, fop, marker='.')\n",
    "    plt.show()\n",
    "    \n",
    "def getFeatrues(scaled_imgs):\n",
    "    features = np.zeros((len(scaled_imgs), 1024))\n",
    "    for i in tqdm(range(len(scaled_imgs))):\n",
    "        feature = getOutput(scaled_imgs[i:i+1])\n",
    "        features[i] = feature\n",
    "    return features"
   ]
  },
  {
   "cell_type": "markdown",
   "metadata": {},
   "source": [
    "**1. Describe what you are doing and why it matters to patients using at least one citation.**"
   ]
  },
  {
   "cell_type": "markdown",
   "metadata": {},
   "source": [
    "Traditional mammogram classification requires extra annotations such as bounding box of detection or like in our dataset, mask ground truch for segmentation, which requires a lot of work by the radiologists. And plus, classification of the lesions after having ROI or segmentation is also difficult which requires high expertise and time[<sup>1</sup>](#s1). Nowadays, machine learning appoaches, particularly deep learning, are widly utilized to improve computer-aided diagnosis (CAD) and decision report[<sup>2</sup>](#s2). Most popular methods seek to improve detection performances, but they didn't necessarily provide reliability of their prediction, which stil requires the interaction by an expert raiologist[<sup>3</sup>](#s3).\n",
    "\n",
    "This study aims to provide a potential feasible direction to ease the burden of radiologists by providing not the exact label classifications from machine learning models. But utilize models to excluded consirable proportion of mammograms which were believed to be very confidently classified. And left the rest to be further reviewed by radiologists."
   ]
  },
  {
   "cell_type": "markdown",
   "metadata": {},
   "source": [
    "**2. Describe the relevant statistics of the data. How were the images taken? How were they labeled? What is the class balance and majority classifier accuracy? How will you divide the data into testing, training and validation sets?**"
   ]
  },
  {
   "cell_type": "markdown",
   "metadata": {},
   "source": [
    "### Image statistics"
   ]
  },
  {
   "cell_type": "markdown",
   "metadata": {},
   "source": [
    "#### 1. Perspectives of images"
   ]
  },
  {
   "cell_type": "code",
   "execution_count": 3,
   "metadata": {},
   "outputs": [
    {
     "data": {
      "text/html": [
       "<div>\n",
       "<style scoped>\n",
       "    .dataframe tbody tr th:only-of-type {\n",
       "        vertical-align: middle;\n",
       "    }\n",
       "\n",
       "    .dataframe tbody tr th {\n",
       "        vertical-align: top;\n",
       "    }\n",
       "\n",
       "    .dataframe thead th {\n",
       "        text-align: right;\n",
       "    }\n",
       "</style>\n",
       "<table border=\"1\" class=\"dataframe\">\n",
       "  <thead>\n",
       "    <tr style=\"text-align: right;\">\n",
       "      <th></th>\n",
       "      <th>patient number</th>\n",
       "      <th>img name</th>\n",
       "      <th>img path</th>\n",
       "    </tr>\n",
       "  </thead>\n",
       "  <tbody>\n",
       "    <tr>\n",
       "      <th>0</th>\n",
       "      <td>00001</td>\n",
       "      <td>LEFT_CC.h5</td>\n",
       "      <td>G:\\Code\\BIOMEDIN260\\Problem Set 3\\data_fixed_c...</td>\n",
       "    </tr>\n",
       "    <tr>\n",
       "      <th>1</th>\n",
       "      <td>00001</td>\n",
       "      <td>LEFT_MLO.h5</td>\n",
       "      <td>G:\\Code\\BIOMEDIN260\\Problem Set 3\\data_fixed_c...</td>\n",
       "    </tr>\n",
       "    <tr>\n",
       "      <th>2</th>\n",
       "      <td>00004</td>\n",
       "      <td>LEFT_CC.h5</td>\n",
       "      <td>G:\\Code\\BIOMEDIN260\\Problem Set 3\\data_fixed_c...</td>\n",
       "    </tr>\n",
       "    <tr>\n",
       "      <th>3</th>\n",
       "      <td>00004</td>\n",
       "      <td>LEFT_MLO.h5</td>\n",
       "      <td>G:\\Code\\BIOMEDIN260\\Problem Set 3\\data_fixed_c...</td>\n",
       "    </tr>\n",
       "    <tr>\n",
       "      <th>4</th>\n",
       "      <td>00004</td>\n",
       "      <td>RIGHT_CC.h5</td>\n",
       "      <td>G:\\Code\\BIOMEDIN260\\Problem Set 3\\data_fixed_c...</td>\n",
       "    </tr>\n",
       "  </tbody>\n",
       "</table>\n",
       "</div>"
      ],
      "text/plain": [
       "  patient number     img name  \\\n",
       "0          00001   LEFT_CC.h5   \n",
       "1          00001  LEFT_MLO.h5   \n",
       "2          00004   LEFT_CC.h5   \n",
       "3          00004  LEFT_MLO.h5   \n",
       "4          00004  RIGHT_CC.h5   \n",
       "\n",
       "                                            img path  \n",
       "0  G:\\Code\\BIOMEDIN260\\Problem Set 3\\data_fixed_c...  \n",
       "1  G:\\Code\\BIOMEDIN260\\Problem Set 3\\data_fixed_c...  \n",
       "2  G:\\Code\\BIOMEDIN260\\Problem Set 3\\data_fixed_c...  \n",
       "3  G:\\Code\\BIOMEDIN260\\Problem Set 3\\data_fixed_c...  \n",
       "4  G:\\Code\\BIOMEDIN260\\Problem Set 3\\data_fixed_c...  "
      ]
     },
     "execution_count": 3,
     "metadata": {},
     "output_type": "execute_result"
    }
   ],
   "source": [
    "img_info = getImageList('data_fixed_crop_w_mask')\n",
    "img_info.head()"
   ]
  },
  {
   "cell_type": "markdown",
   "metadata": {},
   "source": [
    "Actually we can see that for each patient, there are multiple images related to them, and each of them are named based on the perspective. In order to have the complete list of all the perspectives of the images, we take the unique values of image names."
   ]
  },
  {
   "cell_type": "code",
   "execution_count": 4,
   "metadata": {},
   "outputs": [
    {
     "name": "stdout",
     "output_type": "stream",
     "text": [
      "['LEFT_CC.h5' 'LEFT_MLO.h5' 'RIGHT_CC.h5' 'RIGHT_MLO.h5']\n"
     ]
    }
   ],
   "source": [
    "print(img_info['img name'].unique())"
   ]
  },
  {
   "cell_type": "markdown",
   "metadata": {},
   "source": [
    "So all the images are taking from left or the right with bilateral craniocaudal (CC) or mediolateral oblique (MLO) views."
   ]
  },
  {
   "cell_type": "code",
   "execution_count": 5,
   "metadata": {},
   "outputs": [
    {
     "name": "stdout",
     "output_type": "stream",
     "text": [
      "(2085, 4)\n"
     ]
    },
    {
     "data": {
      "text/html": [
       "<div>\n",
       "<style scoped>\n",
       "    .dataframe tbody tr th:only-of-type {\n",
       "        vertical-align: middle;\n",
       "    }\n",
       "\n",
       "    .dataframe tbody tr th {\n",
       "        vertical-align: top;\n",
       "    }\n",
       "\n",
       "    .dataframe thead th {\n",
       "        text-align: right;\n",
       "    }\n",
       "</style>\n",
       "<table border=\"1\" class=\"dataframe\">\n",
       "  <thead>\n",
       "    <tr style=\"text-align: right;\">\n",
       "      <th></th>\n",
       "      <th>patient_id</th>\n",
       "      <th>patient number</th>\n",
       "      <th>img path</th>\n",
       "      <th>pathology</th>\n",
       "    </tr>\n",
       "  </thead>\n",
       "  <tbody>\n",
       "    <tr>\n",
       "      <th>0</th>\n",
       "      <td>P_00001</td>\n",
       "      <td>00001</td>\n",
       "      <td>G:\\Code\\BIOMEDIN260\\Problem Set 3\\data_fixed_c...</td>\n",
       "      <td>MALIGNANT</td>\n",
       "    </tr>\n",
       "    <tr>\n",
       "      <th>1</th>\n",
       "      <td>P_00001</td>\n",
       "      <td>00001</td>\n",
       "      <td>G:\\Code\\BIOMEDIN260\\Problem Set 3\\data_fixed_c...</td>\n",
       "      <td>MALIGNANT</td>\n",
       "    </tr>\n",
       "    <tr>\n",
       "      <th>2</th>\n",
       "      <td>P_00001</td>\n",
       "      <td>00001</td>\n",
       "      <td>G:\\Code\\BIOMEDIN260\\Problem Set 3\\data_fixed_c...</td>\n",
       "      <td>MALIGNANT</td>\n",
       "    </tr>\n",
       "    <tr>\n",
       "      <th>3</th>\n",
       "      <td>P_00001</td>\n",
       "      <td>00001</td>\n",
       "      <td>G:\\Code\\BIOMEDIN260\\Problem Set 3\\data_fixed_c...</td>\n",
       "      <td>MALIGNANT</td>\n",
       "    </tr>\n",
       "    <tr>\n",
       "      <th>4</th>\n",
       "      <td>P_00004</td>\n",
       "      <td>00004</td>\n",
       "      <td>G:\\Code\\BIOMEDIN260\\Problem Set 3\\data_fixed_c...</td>\n",
       "      <td>BENIGN</td>\n",
       "    </tr>\n",
       "  </tbody>\n",
       "</table>\n",
       "</div>"
      ],
      "text/plain": [
       "  patient_id patient number  \\\n",
       "0    P_00001          00001   \n",
       "1    P_00001          00001   \n",
       "2    P_00001          00001   \n",
       "3    P_00001          00001   \n",
       "4    P_00004          00004   \n",
       "\n",
       "                                            img path  pathology  \n",
       "0  G:\\Code\\BIOMEDIN260\\Problem Set 3\\data_fixed_c...  MALIGNANT  \n",
       "1  G:\\Code\\BIOMEDIN260\\Problem Set 3\\data_fixed_c...  MALIGNANT  \n",
       "2  G:\\Code\\BIOMEDIN260\\Problem Set 3\\data_fixed_c...  MALIGNANT  \n",
       "3  G:\\Code\\BIOMEDIN260\\Problem Set 3\\data_fixed_c...  MALIGNANT  \n",
       "4  G:\\Code\\BIOMEDIN260\\Problem Set 3\\data_fixed_c...     BENIGN  "
      ]
     },
     "execution_count": 5,
     "metadata": {},
     "output_type": "execute_result"
    }
   ],
   "source": [
    "# Build a DataFrame\n",
    "description = pd.read_csv('mass_case_description_train_set.csv')\n",
    "fn = lambda x: 'P_' + x\n",
    "patient_id = img_info['patient number'].apply(fn)\n",
    "patient_id.name = 'patient_id'\n",
    "pred_info = pd.concat([patient_id, img_info['patient number'], img_info['img path']], axis = 1)\n",
    "pred_info = pd.merge(pred_info, description[['patient_id', 'pathology']], on='patient_id', how='inner')\n",
    "print(pred_info.shape)\n",
    "pred_info.head()"
   ]
  },
  {
   "cell_type": "markdown",
   "metadata": {},
   "source": [
    "We can see after matching the labels with their images, we 2085 images with labels."
   ]
  },
  {
   "cell_type": "markdown",
   "metadata": {},
   "source": [
    "#### 2. Labels of images"
   ]
  },
  {
   "cell_type": "code",
   "execution_count": 6,
   "metadata": {},
   "outputs": [
    {
     "name": "stdout",
     "output_type": "stream",
     "text": [
      "['MALIGNANT' 'BENIGN' 'BENIGN_WITHOUT_CALLBACK']\n"
     ]
    }
   ],
   "source": [
    "print(pred_info['pathology'].unique())\n",
    "labels = pred_info['pathology'] == 'MALIGNANT'"
   ]
  },
  {
   "cell_type": "markdown",
   "metadata": {},
   "source": [
    "All the images contain three kinds of labels. Benign without callback indicates that a physician marked some aspect of the case as worth tracking, but did not require further followup[<sup>4</sup>](#s4). We set class `'MALIGNANT'` as 1, while the other two classes are set to 0."
   ]
  },
  {
   "cell_type": "markdown",
   "metadata": {},
   "source": [
    "#### 3. Majority classifier accuracy"
   ]
  },
  {
   "cell_type": "markdown",
   "metadata": {},
   "source": [
    "The majority classifier accuracy is given by the proportion of the majority cases in the dataset."
   ]
  },
  {
   "cell_type": "code",
   "execution_count": 7,
   "metadata": {},
   "outputs": [
    {
     "name": "stdout",
     "output_type": "stream",
     "text": [
      "proportion of positive cases =  0.47817745803357314\n",
      "So the accuracy =  0.5218225419664269\n"
     ]
    }
   ],
   "source": [
    "# proportion of positive cases (malignant)\n",
    "pos_ratio = np.mean(pred_info['pathology'] == 'MALIGNANT')\n",
    "print('proportion of positive cases = ', pos_ratio)\n",
    "# So the accuracy would be\n",
    "print('So the accuracy = ', 1 - pos_ratio)"
   ]
  },
  {
   "cell_type": "markdown",
   "metadata": {},
   "source": [
    "#### 4. Data division"
   ]
  },
  {
   "cell_type": "markdown",
   "metadata": {},
   "source": [
    "The `train_test_split` function is used to do the feature selection. I chose test set to have 15% of the data."
   ]
  },
  {
   "cell_type": "markdown",
   "metadata": {},
   "source": [
    "**3. Describe your data pipeline (how is the data scrubbed, normalized, stored, and fed to the model for training?).**"
   ]
  },
  {
   "cell_type": "markdown",
   "metadata": {},
   "source": [
    "1. Image resize: In `loadImages` function, if size parameter is set, then the image will be loaded as the specified size. Multiple kinds of sizes are considered and the original size (256, 256) works fine.\n",
    "2. Mask remove: Masks of the image are automatically removed by `loadOneImage` function. To just keep the greyscale image for further analysis.\n",
    "3. RGB conversion: Greyscale images are converted to 3 channel-RGB images by duplicating the grey channel three times.\n",
    "4. Image rescale: All images are rescale to 0-255 integer data type.\n",
    "5. Image Storage: All images are loaded as an `ndarray` by `numpy`. There are four dimensions in total, which are respectively (n_examples, image_width, image_height, channels)"
   ]
  },
  {
   "cell_type": "code",
   "execution_count": 8,
   "metadata": {},
   "outputs": [
    {
     "name": "stderr",
     "output_type": "stream",
     "text": [
      "100%|██████████████████████████████████████████████████████████████████████████████| 2085/2085 [00:22<00:00, 92.71it/s]\n"
     ]
    },
    {
     "name": "stdout",
     "output_type": "stream",
     "text": [
      "(2085, 256, 256, 3)\n"
     ]
    }
   ],
   "source": [
    "# laod all images in a ndarry and rescale all the images to be `scaled_imgs`.\n",
    "imgs = loadImages(pred_info['img path'])\n",
    "scaled_imgs = imgScale(imgs)\n",
    "# The shape of X\n",
    "print(scaled_imgs.shape)"
   ]
  },
  {
   "cell_type": "markdown",
   "metadata": {},
   "source": [
    "**4. Explain how the model you chose works alongside the code for it. Add at least one technical citation to give credit where credit is due.**"
   ]
  },
  {
   "cell_type": "markdown",
   "metadata": {},
   "source": [
    "This study started with a model mensioned in an published article, which is an \"end-to-end\" classification model that requires only image level label to train and can achieve high performance[<sup>5</sup>](#s5). A pre-trained model is taken and used to give predictions and image features."
   ]
  },
  {
   "cell_type": "code",
   "execution_count": 9,
   "metadata": {},
   "outputs": [
    {
     "name": "stdout",
     "output_type": "stream",
     "text": [
      "WARNING:tensorflow:Error in loading the saved optimizer state. As a result, your model is starting with a freshly initialized optimizer.\n"
     ]
    }
   ],
   "source": [
    "# load the pre-trained model\n",
    "resmodel = load_model('ddsm_resnet50_s10_[512-512-1024]x2.h5')\n",
    "# And try to make prediction using this model\n",
    "preds_matrix = resmodel.predict(scaled_imgs)\n",
    "preds = preds_matrix[:,1]"
   ]
  },
  {
   "cell_type": "code",
   "execution_count": 10,
   "metadata": {},
   "outputs": [
    {
     "name": "stdout",
     "output_type": "stream",
     "text": [
      "The confusion matrix of the model predictions on our dataset.\n",
      "[[860 228]\n",
      " [376 621]]\n",
      "The accuracy of the model prediction.\n",
      "0.7103\n",
      "The AUCROC of the model prediction.\n",
      "0.7067\n"
     ]
    }
   ],
   "source": [
    "# Brief summary of the prediction results\n",
    "from sklearn.metrics import roc_auc_score, accuracy_score, confusion_matrix, plot_confusion_matrix\n",
    "print('The confusion matrix of the model predictions on our dataset.')\n",
    "print(confusion_matrix(labels, preds > 0.5))\n",
    "print('The accuracy of the model prediction.')\n",
    "print(round(accuracy_score(labels, preds > 0.5), 4))\n",
    "print('The AUCROC of the model prediction.')\n",
    "print(round(roc_auc_score(labels, preds > 0.5), 4))"
   ]
  },
  {
   "cell_type": "markdown",
   "metadata": {},
   "source": [
    "We can see that this model is doing fairly good in three results. However, when we look at the calibration reliability curve, the result is not that satisfying."
   ]
  },
  {
   "cell_type": "code",
   "execution_count": 11,
   "metadata": {},
   "outputs": [
    {
     "data": {
      "image/png": "[encoded data removed]",
      "text/plain": [
       "<Figure size 432x288 with 1 Axes>"
      ]
     },
     "metadata": {
      "needs_background": "light"
     },
     "output_type": "display_data"
    }
   ],
   "source": [
    "plotReliability(preds, labels, n_bins=20)"
   ]
  },
  {
   "cell_type": "markdown",
   "metadata": {},
   "source": [
    "**5. There are many ways to do training. Take us through how you do it (e.g. \"We used early stopping and stopped when validation loss increased twice in a row.\").**"
   ]
  },
  {
   "cell_type": "markdown",
   "metadata": {},
   "source": [
    "The output layer was removed from the original model. The output of the last hidden layer which consist of 1024 values were taken as codings of images. Using the coding information, a support vector machine was trained on training set and evaluated on test set. The goal is that we want this SVM to be well calibratred, using `CalibratedClassifierCV` function by `sklearn`."
   ]
  },
  {
   "cell_type": "code",
   "execution_count": 12,
   "metadata": {},
   "outputs": [
    {
     "name": "stderr",
     "output_type": "stream",
     "text": [
      "100%|██████████████████████████████████████████████████████████████████████████████| 2085/2085 [01:21<00:00, 25.65it/s]"
     ]
    },
    {
     "name": "stdout",
     "output_type": "stream",
     "text": [
      "(2085, 1024)\n"
     ]
    },
    {
     "name": "stderr",
     "output_type": "stream",
     "text": [
      "\n"
     ]
    }
   ],
   "source": [
    "# get output\n",
    "from tensorflow.keras.models import clone_model, Sequential\n",
    "from keras import backend as K\n",
    "getOutput = K.function(resmodel.layers[0].input, resmodel.layers[-2].output)\n",
    "features = getFeatrues(scaled_imgs)\n",
    "# Look at the shape of features extracted\n",
    "print(features.shape)"
   ]
  },
  {
   "cell_type": "code",
   "execution_count": 13,
   "metadata": {},
   "outputs": [],
   "source": [
    "# Train a classifier and calibrate it\n",
    "from sklearn.svm import SVC\n",
    "from sklearn.model_selection import train_test_split\n",
    "from sklearn.calibration import CalibratedClassifierCV\n",
    "clf = SVC()\n",
    "x_train, x_test, y_train, y_test = train_test_split(features, labels, test_size=0.2, random_state=9001)\n",
    "calibrator = CalibratedClassifierCV(clf, method = 'sigmoid', cv=5)\n",
    "_ = calibrator.fit(x_train, y_train)"
   ]
  },
  {
   "cell_type": "code",
   "execution_count": 14,
   "metadata": {},
   "outputs": [],
   "source": [
    "# Get predict probability from SVM\n",
    "probs = calibrator.predict_proba(x_test)[:, 1]"
   ]
  },
  {
   "cell_type": "code",
   "execution_count": 15,
   "metadata": {},
   "outputs": [
    {
     "data": {
      "text/plain": [
       "0.7170263788968825"
      ]
     },
     "execution_count": 15,
     "metadata": {},
     "output_type": "execute_result"
    }
   ],
   "source": [
    "accuracy_score(y_test, probs > 0.5)"
   ]
  },
  {
   "cell_type": "markdown",
   "metadata": {},
   "source": [
    "**6. Make a figure displaying your results.**"
   ]
  },
  {
   "cell_type": "code",
   "execution_count": 16,
   "metadata": {},
   "outputs": [
    {
     "data": {
      "image/png": "[encoded data removed]",
      "text/plain": [
       "<Figure size 432x288 with 1 Axes>"
      ]
     },
     "metadata": {
      "needs_background": "light"
     },
     "output_type": "display_data"
    }
   ],
   "source": [
    "# Plots of calibrated SVM\n",
    "plotReliability(probs, y_test)"
   ]
  },
  {
   "cell_type": "markdown",
   "metadata": {},
   "source": [
    "What if we want the algorithm to exclude all the mammograms that score higher than 0.8. Let's compare the results before and after calibration."
   ]
  },
  {
   "cell_type": "code",
   "execution_count": 17,
   "metadata": {},
   "outputs": [
    {
     "name": "stdout",
     "output_type": "stream",
     "text": [
      "There are 417 patients in 'y_test', and 96 patients have > 0.8 score.\n",
      "The excluded mammogram will have 0.8958 accuracy and reduce the workload of expert radiologists by 23.02%\n"
     ]
    }
   ],
   "source": [
    "print('There are {} patients in \\'y_test\\', and {} patients have > 0.8 score.'.format(len(y_test), np.sum(probs > 0.8)))\n",
    "print('The excluded mammogram will have {} accuracy and reduce the workload of expert radiologists by {}%'.format(round(np.mean(y_test[probs > 0.8]), 4), round(np.sum(probs > 0.8) / len(y_test) * 100, 2)))"
   ]
  },
  {
   "cell_type": "markdown",
   "metadata": {},
   "source": [
    "**7. Discuss pros and cons of your method and what you might have done differently now that you've tried or would try if you had more time.**"
   ]
  },
  {
   "cell_type": "markdown",
   "metadata": {},
   "source": [
    "This study did provide a potential feasible direction to explore which could help reduce the workload of expert radiologists so that they can spend more energy and time to focus on the more difficult mammograms to reduce misclassification finally.\n",
    "\n",
    "There are multiple things to try as next steps. Here I want to provide two wide fields which each of them contains a lot of potentials to explore.\n",
    "1. Use a better classifier at the first place or fine tune the model to yield better results. If this method is built on better classifiers, which could have more accurate predictions, then imaginably, the corresponding calibrated model would have more ability to exclude more images with high confidence.\n",
    "2. Incorporating `features_matrix`. In `features_matrix` there are scores which indicate the difficulty levels and confidence levels that radiologists can classify the mammogram. Build another CNN to predict those scores, and includes the predicted scores into the finall model of calibration, the results would be better. This is actually trying to predict how difficult human would think that this mammogram is to be classified."
   ]
  },
  {
   "cell_type": "markdown",
   "metadata": {},
   "source": [
    "**You will not be graded on the performance of your model. You'll only be graded on the scientific soundness of your claims, methodology, evaluation (i.e. fair but insightful statistics), and discussion of the strengths and shortcomings of what you tried. Feel free to reuse some of the code you are/will be using for your projects. The write-up doesn't need to be long (~1 page will suffice), but please cite at least one clinical paper and one technical paper (1 each in questions 1 and 4 at least, and more if needed).**"
   ]
  },
  {
   "cell_type": "markdown",
   "metadata": {},
   "source": [
    "<span id='s1'> 1. Oeffinger, K. C., Fontham, E. T., Etzioni, R., Herzig, A., Michaelson, J. S., Shih, Y. C. T., ... & Wolf, A. M. (2015). Breast cancer screening for women at average risk: 2015 guideline update from the American Cancer Society. Jama, 314(15), 1599-1614.</span> \n",
    "\n",
    "<span id='s2'> 2. Wernick, M. N., Yang, Y., Brankov, J. G., Yourganov, G., & Strother, S. C. (2010). Machine learning in medical imaging. IEEE signal processing magazine, 27(4), 25-38.</span>\n",
    "\n",
    "<span id='s3'> 3. Rodriguez-Ruiz, A., Mordang, J. J., Karssemeijer, N., Sechopoulos, I., & Mann, R. M. (2018, July). Can radiologists improve their breast cancer detection in mammography when using a deep learning based computer system as decision support?. In 14th International Workshop on Breast Imaging (IWBI 2018) (Vol. 10718, p. 1071803). International Society for Optics and Photonics. </span>\n",
    "\n",
    "<span id='s4'> 4. Yi, D., Sawyer, R. L., Cohn III, D., Dunnmon, J., Lam, C., Xiao, X., & Rubin, D. (2017). Optimizing and visualizing deep learning for benign/malignant classification in breast tumors. arXiv preprint arXiv:1705.06362.</span>\n",
    "\n",
    "<span id='s5'> 5. Shen, L., Margolies, L. R., Rothstein, J. H., Fluder, E., McBride, R., & Sieh, W. (2019). Deep learning to improve breast cancer detection on screening mammography. Scientific reports, 9(1), 1-12. </span>"
   ]
  }
 ],
 "metadata": {
  "kernelspec": {
   "display_name": "Python 3",
   "language": "python",
   "name": "python3"
  },
  "language_info": {
   "codemirror_mode": {
    "name": "ipython",
    "version": 3
   },
   "file_extension": ".py",
   "mimetype": "text/x-python",
   "name": "python",
   "nbconvert_exporter": "python",
   "pygments_lexer": "ipython3",
   "version": "3.7.6"
  }
 },
 "nbformat": 4,
 "nbformat_minor": 4
}
